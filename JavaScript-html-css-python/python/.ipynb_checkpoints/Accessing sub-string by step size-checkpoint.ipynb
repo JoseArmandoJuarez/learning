{
 "cells": [
  {
   "cell_type": "code",
   "execution_count": 4,
   "metadata": {},
   "outputs": [
    {
     "name": "stdout",
     "output_type": "stream",
     "text": [
      "Collete \n",
      "\n",
      "Clee\n"
     ]
    }
   ],
   "source": [
    "student_name = \"Collete\"\n",
    "print(student_name, \"\\n\")\n",
    "#there is a start value a end value and a step value which is 2\n",
    "print(student_name[::2])"
   ]
  },
  {
   "cell_type": "code",
   "execution_count": 6,
   "metadata": {},
   "outputs": [
    {
     "name": "stdout",
     "output_type": "stream",
     "text": [
      "Collete \n",
      "\n",
      "olt\n"
     ]
    }
   ],
   "source": [
    "print(student_name, \"\\n\")\n",
    "\n",
    "#we start at index 1 and step by 2\n",
    "print(student_name[1::2])"
   ]
  },
  {
   "cell_type": "code",
   "execution_count": 7,
   "metadata": {},
   "outputs": [
    {
     "name": "stdout",
     "output_type": "stream",
     "text": [
      "Consequences \n",
      "\n",
      "osqe\n"
     ]
    }
   ],
   "source": [
    "long_word = \"Consequences\"\n",
    "print(long_word, \"\\n\")\n",
    "\n",
    "#start at index 1 end at index 9 step every other 2\n",
    "print(long_word[1:9:2])"
   ]
  }
 ],
 "metadata": {
  "kernelspec": {
   "display_name": "Python 3",
   "language": "python",
   "name": "python3"
  },
  "language_info": {
   "codemirror_mode": {
    "name": "ipython",
    "version": 3
   },
   "file_extension": ".py",
   "mimetype": "text/x-python",
   "name": "python",
   "nbconvert_exporter": "python",
   "pygments_lexer": "ipython3",
   "version": "3.7.1"
  }
 },
 "nbformat": 4,
 "nbformat_minor": 2
}
