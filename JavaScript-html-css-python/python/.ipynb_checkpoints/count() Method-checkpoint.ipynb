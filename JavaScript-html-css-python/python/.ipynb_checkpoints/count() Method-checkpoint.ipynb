{
 "cells": [
  {
   "cell_type": "code",
   "execution_count": 2,
   "metadata": {},
   "outputs": [
    {
     "name": "stdout",
     "output_type": "stream",
     "text": [
      "letter \"e\" occurrences\n"
     ]
    },
    {
     "data": {
      "text/plain": [
       "2"
      ]
     },
     "execution_count": 2,
     "metadata": {},
     "output_type": "execute_result"
    }
   ],
   "source": [
    "#displays how many letter e's \n",
    "work_tip = \"save your code\"\n",
    "print('letter \"e\" occurrences')\n",
    "\n",
    "work_tip.count(\"e\")"
   ]
  },
  {
   "cell_type": "code",
   "execution_count": 4,
   "metadata": {},
   "outputs": [
    {
     "name": "stdout",
     "output_type": "stream",
     "text": [
      "save your code\n",
      "how many w's?  0\n",
      "how many o's?  2\n",
      "uses 'code', how many times? 1\n"
     ]
    }
   ],
   "source": [
    "print(work_tip)\n",
    "print(\"how many w's? \", work_tip.count(\"w\"))\n",
    "print(\"how many o's? \", work_tip.count(\"o\"))\n",
    "\n",
    "print(\"uses 'code', how many times?\", work_tip.count(\"code\"))"
   ]
  },
  {
   "cell_type": "code",
   "execution_count": 6,
   "metadata": {},
   "outputs": [
    {
     "name": "stdout",
     "output_type": "stream",
     "text": [
      "save yo\n",
      "# o's in first half\n",
      "1\n",
      "\n",
      "ur code\n",
      "# o's in second half\n",
      "1\n"
     ]
    }
   ],
   "source": [
    "print(work_tip[:7])\n",
    "print(\"# o's in first half\")\n",
    "print(work_tip[:7].count(\"o\"))\n",
    "\n",
    "print()\n",
    "print(work_tip[7:])\n",
    "print(\"# o's in second half\")\n",
    "print(work_tip[7:].count(\"o\"))"
   ]
  },
  {
   "cell_type": "code",
   "execution_count": null,
   "metadata": {},
   "outputs": [],
   "source": []
  }
 ],
 "metadata": {
  "kernelspec": {
   "display_name": "Python 3",
   "language": "python",
   "name": "python3"
  },
  "language_info": {
   "codemirror_mode": {
    "name": "ipython",
    "version": 3
   },
   "file_extension": ".py",
   "mimetype": "text/x-python",
   "name": "python",
   "nbconvert_exporter": "python",
   "pygments_lexer": "ipython3",
   "version": "3.7.1"
  }
 },
 "nbformat": 4,
 "nbformat_minor": 2
}
