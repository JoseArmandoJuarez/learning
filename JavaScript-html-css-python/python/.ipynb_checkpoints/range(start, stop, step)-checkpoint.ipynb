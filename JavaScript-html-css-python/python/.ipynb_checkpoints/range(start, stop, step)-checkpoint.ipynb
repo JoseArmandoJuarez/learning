{
 "cells": [
  {
   "cell_type": "code",
   "execution_count": 3,
   "metadata": {},
   "outputs": [
    {
     "name": "stdout",
     "output_type": "stream",
     "text": [
      "25\n",
      "50\n",
      "75\n",
      "100\n"
     ]
    }
   ],
   "source": [
    "#start value is 25 ending value is 101 and its going to step every other 25\n",
    "for count in range(25, 101, 25):\n",
    "    print(count)"
   ]
  },
  {
   "cell_type": "code",
   "execution_count": 7,
   "metadata": {},
   "outputs": [
    {
     "name": "stdout",
     "output_type": "stream",
     "text": [
      "25\n",
      "30\n",
      "35\n",
      "40\n",
      "45\n",
      "Total = 175\n"
     ]
    }
   ],
   "source": [
    "total = 0\n",
    "\n",
    "#start value2 ending value 46 step every other 5\n",
    "for item in range(25, 46, 5):\n",
    "    print(item)\n",
    "    total += item\n",
    "    \n",
    "print(\"Total =\", total)"
   ]
  },
  {
   "cell_type": "code",
   "execution_count": 9,
   "metadata": {},
   "outputs": [
    {
     "name": "stdout",
     "output_type": "stream",
     "text": [
      "Tuesday\n",
      "February\n",
      "Annual\n",
      "Solstice\n"
     ]
    }
   ],
   "source": [
    "#printing the 1st andd then every other word\n",
    "spell_list = [\"Tuesday\", \"Wednesday\", \"February\", \"Novemeber\", \"Annual\", \"Calendar\", \"Solstice\"]\n",
    "\n",
    "#start at 0 ending at the end of the list step every other 2\n",
    "for index in range(0, len(spell_list), 2):\n",
    "    print(spell_list[index])"
   ]
  },
  {
   "cell_type": "code",
   "execution_count": 14,
   "metadata": {},
   "outputs": [
    {
     "name": "stdout",
     "output_type": "stream",
     "text": [
      "246\n"
     ]
    }
   ],
   "source": [
    "numbers = \"\"\n",
    "for x in range(2,8,2):\n",
    "    numbers += str(x)\n",
    "print(numbers)\n"
   ]
  }
 ],
 "metadata": {
  "kernelspec": {
   "display_name": "Python 3",
   "language": "python",
   "name": "python3"
  },
  "language_info": {
   "codemirror_mode": {
    "name": "ipython",
    "version": 3
   },
   "file_extension": ".py",
   "mimetype": "text/x-python",
   "name": "python",
   "nbconvert_exporter": "python",
   "pygments_lexer": "ipython3",
   "version": "3.7.1"
  }
 },
 "nbformat": 4,
 "nbformat_minor": 2
}
