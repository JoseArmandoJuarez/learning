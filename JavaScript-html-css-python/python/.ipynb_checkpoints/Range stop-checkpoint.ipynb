{
 "cells": [
  {
   "cell_type": "code",
   "execution_count": 3,
   "metadata": {},
   "outputs": [
    {
     "data": {
      "text/plain": [
       "[0, 1, 2, 3, 4, 5, 6, 7, 8, 9]"
      ]
     },
     "execution_count": 3,
     "metadata": {},
     "output_type": "execute_result"
    }
   ],
   "source": [
    "#RANGE(STOP) FUNCTION CREATES A NUMERIC SEQUENCE\n",
    "\n",
    "list(range(10))"
   ]
  },
  {
   "cell_type": "code",
   "execution_count": 5,
   "metadata": {},
   "outputs": [
    {
     "name": "stdout",
     "output_type": "stream",
     "text": [
      "0\n",
      "1\n",
      "2\n",
      "3\n",
      "4\n",
      "5\n",
      "6\n",
      "7\n",
      "8\n",
      "9\n"
     ]
    }
   ],
   "source": [
    "for count in range(10):\n",
    "    print(count)"
   ]
  },
  {
   "cell_type": "code",
   "execution_count": 7,
   "metadata": {},
   "outputs": [
    {
     "name": "stdout",
     "output_type": "stream",
     "text": [
      "digits = [0, 1, 2, 3, 4, 5, 6, 7, 8, 9] \n",
      "\n",
      "sub_total:  0\n",
      "sub_total:  1\n",
      "sub_total:  3\n",
      "sub_total:  6\n",
      "sub_total:  10\n",
      "sub_total:  15\n",
      "sub_total:  21\n",
      "sub_total:  28\n",
      "sub_total:  36\n",
      "sub_total:  45\n",
      "Total = 45\n"
     ]
    }
   ],
   "source": [
    "#VARIABLES CAN BE INITIALIZED WITH RANGE OBJECTS AND USED IN ITERATION\n",
    "\n",
    "#Print digits as a list\n",
    "digits = range(10)\n",
    "print(\"digits =\", list(digits), \"\\n\")\n",
    "sub_total = 0\n",
    "\n",
    "#add up all the digits in our range from 0 to 9 and then print out a subtotal and total vlaue\n",
    "for item in digits:\n",
    "    sub_total += item\n",
    "    print(\"sub_total: \", sub_total) #adds up subtotal\n",
    "print(\"Total =\", sub_total)#adds total"
   ]
  },
  {
   "cell_type": "code",
   "execution_count": 9,
   "metadata": {},
   "outputs": [
    {
     "name": "stdout",
     "output_type": "stream",
     "text": [
      "half way =  3 \n",
      "\n",
      "Tuesday\n",
      "Wednesday\n",
      "February\n"
     ]
    }
   ],
   "source": [
    "#RANGE() used in itrating a list\n",
    "\n",
    "spell_list = [\"Tuesday\", \"Wednesday\", \"February\", \"November\", \"Annual\", \"Calendar\", \"Solstice\"]\n",
    "\n",
    "half_1 = int(len(spell_list)/2)\n",
    "print(\"half way = \", half_1,\"\\n\")\n",
    "\n",
    "for word in range(half_1):\n",
    "    print(spell_list[word])"
   ]
  }
 ],
 "metadata": {
  "kernelspec": {
   "display_name": "Python 3",
   "language": "python",
   "name": "python3"
  },
  "language_info": {
   "codemirror_mode": {
    "name": "ipython",
    "version": 3
   },
   "file_extension": ".py",
   "mimetype": "text/x-python",
   "name": "python",
   "nbconvert_exporter": "python",
   "pygments_lexer": "ipython3",
   "version": "3.7.1"
  }
 },
 "nbformat": 4,
 "nbformat_minor": 2
}
