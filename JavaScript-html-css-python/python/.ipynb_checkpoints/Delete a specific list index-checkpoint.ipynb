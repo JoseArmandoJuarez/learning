{
 "cells": [
  {
   "cell_type": "code",
   "execution_count": 3,
   "metadata": {},
   "outputs": [
    {
     "name": "stdout",
     "output_type": "stream",
     "text": [
      "sample_list before:  [11, 21, 13, 14, 51, 161, 117, 181]\n",
      "sample_list after:  [11, 13, 14, 51, 161, 117, 181]\n"
     ]
    }
   ],
   "source": [
    "#use the del command to delete items from the list\n",
    "# the list before delete\n",
    "sample_list = [11, 21, 13, 14, 51, 161, 117, 181]\n",
    "print(\"sample_list before: \", sample_list)\n",
    "\n",
    "del sample_list[1]\n",
    "#the list after delete\n",
    "print(\"sample_list after: \", sample_list)"
   ]
  },
  {
   "cell_type": "code",
   "execution_count": 5,
   "metadata": {},
   "outputs": [
    {
     "name": "stdout",
     "output_type": "stream",
     "text": [
      "sample_list before:  [11, 13, 14, 51, 161, 117]\n",
      "sample_list after:  [11, 13, 14, 51, 161]\n"
     ]
    }
   ],
   "source": [
    "#only delete the last item on the list\n",
    "print(\"sample_list before: \", sample_list)\n",
    "\n",
    "#deletes index -1\n",
    "del sample_list[-1]\n",
    "print(\"sample_list after: \", sample_list)"
   ]
  },
  {
   "cell_type": "code",
   "execution_count": null,
   "metadata": {},
   "outputs": [],
   "source": []
  }
 ],
 "metadata": {
  "kernelspec": {
   "display_name": "Python 3",
   "language": "python",
   "name": "python3"
  },
  "language_info": {
   "codemirror_mode": {
    "name": "ipython",
    "version": 3
   },
   "file_extension": ".py",
   "mimetype": "text/x-python",
   "name": "python",
   "nbconvert_exporter": "python",
   "pygments_lexer": "ipython3",
   "version": "3.7.1"
  }
 },
 "nbformat": 4,
 "nbformat_minor": 2
}
