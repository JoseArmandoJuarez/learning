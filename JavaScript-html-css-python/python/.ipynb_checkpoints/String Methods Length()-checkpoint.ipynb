{
 "cells": [
  {
   "cell_type": "code",
   "execution_count": 2,
   "metadata": {},
   "outputs": [
    {
     "name": "stdout",
     "output_type": "stream",
     "text": [
      "number of characters in string\n"
     ]
    },
    {
     "data": {
      "text/plain": [
       "14"
      ]
     },
     "execution_count": 2,
     "metadata": {},
     "output_type": "execute_result"
    }
   ],
   "source": [
    "work_tip = \"save your code\"\n",
    "\n",
    "print(\"number of characters in string\")\n",
    "len(work_tip)"
   ]
  },
  {
   "cell_type": "code",
   "execution_count": 4,
   "metadata": {},
   "outputs": [
    {
     "name": "stdout",
     "output_type": "stream",
     "text": [
      "The sentence: \"good code is commented code\" has character length =  27\n"
     ]
    }
   ],
   "source": [
    "work_tip = \"good code is commented code\"\n",
    "print(\"The sentence: \\\"\" + work_tip + \"\\\" has character length = \", len(work_tip))"
   ]
  },
  {
   "cell_type": "code",
   "execution_count": 6,
   "metadata": {},
   "outputs": [
    {
     "name": "stdout",
     "output_type": "stream",
     "text": [
      "good code is \n",
      "commented code\n"
     ]
    }
   ],
   "source": [
    "work_tip = \"good code is commented code\"\n",
    "len_tip = len(work_tip)\n",
    "mid_pt = int(len_tip/2)\n",
    "\n",
    "#print from the first index and stop at the half way point\n",
    "print(work_tip[:mid_pt])\n",
    "#start from the half way point and end at the last index value\n",
    "print(work_tip[mid_pt:])"
   ]
  }
 ],
 "metadata": {
  "kernelspec": {
   "display_name": "Python 3",
   "language": "python",
   "name": "python3"
  },
  "language_info": {
   "codemirror_mode": {
    "name": "ipython",
    "version": 3
   },
   "file_extension": ".py",
   "mimetype": "text/x-python",
   "name": "python",
   "nbconvert_exporter": "python",
   "pygments_lexer": "ipython3",
   "version": "3.7.1"
  }
 },
 "nbformat": 4,
 "nbformat_minor": 2
}
