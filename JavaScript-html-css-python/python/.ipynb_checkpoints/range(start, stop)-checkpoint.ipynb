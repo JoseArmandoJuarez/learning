{
 "cells": [
  {
   "cell_type": "code",
   "execution_count": 2,
   "metadata": {},
   "outputs": [
    {
     "name": "stdout",
     "output_type": "stream",
     "text": [
      "5\n",
      "6\n",
      "7\n",
      "8\n",
      "9\n"
     ]
    }
   ],
   "source": [
    "#value starts at 5 stopping at 10\n",
    "for count in range(5,10):\n",
    "    print(count)"
   ]
  },
  {
   "cell_type": "code",
   "execution_count": 4,
   "metadata": {},
   "outputs": [
    {
     "name": "stdout",
     "output_type": "stream",
     "text": [
      "sub_total:  0 + 5 = 5\n",
      "sub_total:  5 + 6 = 11\n",
      "sub_total:  11 + 7 = 18\n",
      "sub_total:  18 + 8 = 26\n",
      "sub_total:  26 + 9 = 35\n",
      "sub_total:  35 + 10 = 45\n",
      "Total =  45\n"
     ]
    }
   ],
   "source": [
    "sub_total = 0\n",
    "temp = 0\n",
    "\n",
    "#value start at 5 ending at 11\n",
    "for item in range(5, 11):\n",
    "    temp = sub_total\n",
    "    sub_total += item\n",
    "    #displays the subtotal adds the temp with the item\n",
    "    print(\"sub_total: \", temp, \"+\", item, \"=\", sub_total)\n",
    "\n",
    "print(\"Total = \", sub_total)"
   ]
  },
  {
   "cell_type": "code",
   "execution_count": 8,
   "metadata": {},
   "outputs": [
    {
     "name": "stdout",
     "output_type": "stream",
     "text": [
      "['Tuesday', 'Wednesday', 'February', 'November', 'Annual', 'Calendar', 'Solstice'] \n",
      "\n",
      "half 1 =  3 \n",
      "\n",
      "November\n",
      "Annual\n",
      "Calendar\n",
      "Solstice\n"
     ]
    }
   ],
   "source": [
    "#displays spell_list\n",
    "spell_list = [\"Tuesday\", \"Wednesday\", \"February\", \"November\", \"Annual\", \"Calendar\", \"Solstice\"]\n",
    "print(spell_list, \"\\n\")\n",
    "\n",
    "#gets only to the half way point\n",
    "spell_len = len(spell_list)\n",
    "half_1 = int(spell_len/2)\n",
    "print(\"half 1 = \", half_1, \"\\n\")\n",
    "\n",
    "#displays from 3 to endinpoint 8\n",
    "for word in range(half_1, spell_len):\n",
    "    print(spell_list[word])"
   ]
  },
  {
   "cell_type": "code",
   "execution_count": null,
   "metadata": {},
   "outputs": [],
   "source": []
  }
 ],
 "metadata": {
  "kernelspec": {
   "display_name": "Python 3",
   "language": "python",
   "name": "python3"
  },
  "language_info": {
   "codemirror_mode": {
    "name": "ipython",
    "version": 3
   },
   "file_extension": ".py",
   "mimetype": "text/x-python",
   "name": "python",
   "nbconvert_exporter": "python",
   "pygments_lexer": "ipython3",
   "version": "3.7.1"
  }
 },
 "nbformat": 4,
 "nbformat_minor": 2
}
