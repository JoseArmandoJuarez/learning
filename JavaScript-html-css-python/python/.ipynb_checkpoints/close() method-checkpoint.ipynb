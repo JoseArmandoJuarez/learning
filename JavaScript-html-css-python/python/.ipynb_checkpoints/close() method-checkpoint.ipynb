{
 "cells": [
  {
   "cell_type": "markdown",
   "metadata": {},
   "source": [
    "# File .close() method frees resources  \n",
    "\n",
    "file.close() method removes the references created from file open() function   \n",
    "\n",
    "poem1 = open('poem1.txt', 'r')   \n",
    "\n",
    "poem_line = poem1.readlines()  \n",
    "print(poem_lines)   \n",
    "\n",
    "['Loops I repeat\\n' , 'loops\\n' , 'loops\\n' , 'loops\\n' , 'I repeat\\n' , 'until I\\n' , 'break\\n']  \n",
    "\n",
    "\n",
    "#close the open file out of memory and free resources   \n",
    "poem1.close()"
   ]
  },
  {
   "cell_type": "code",
   "execution_count": null,
   "metadata": {},
   "outputs": [],
   "source": []
  }
 ],
 "metadata": {
  "kernelspec": {
   "display_name": "Python 3",
   "language": "python",
   "name": "python3"
  },
  "language_info": {
   "codemirror_mode": {
    "name": "ipython",
    "version": 3
   },
   "file_extension": ".py",
   "mimetype": "text/x-python",
   "name": "python",
   "nbconvert_exporter": "python",
   "pygments_lexer": "ipython3",
   "version": "3.7.1"
  }
 },
 "nbformat": 4,
 "nbformat_minor": 2
}
