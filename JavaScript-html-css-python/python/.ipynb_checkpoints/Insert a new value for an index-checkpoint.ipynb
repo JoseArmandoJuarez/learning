{
 "cells": [
  {
   "cell_type": "code",
   "execution_count": 4,
   "metadata": {},
   "outputs": [
    {
     "name": "stdout",
     "output_type": "stream",
     "text": [
      "party_list before:  ['Joana', 'Alton', 'Tobias'] \n",
      "\n",
      "party_list after:  ['Joana', 'Colette', 'Tobias'] \n",
      "\n"
     ]
    }
   ],
   "source": [
    "party_list = [\"Joana\", \"Alton\", \"Tobias\"]\n",
    "print(\"party_list before: \", party_list, \"\\n\")\n",
    "\n",
    "party_list[1] = \"Colette\"\n",
    "print(\"party_list after: \", party_list, \"\\n\")"
   ]
  },
  {
   "cell_type": "raw",
   "metadata": {},
   "source": []
  },
  {
   "cell_type": "code",
   "execution_count": 6,
   "metadata": {},
   "outputs": [
    {
     "name": "stdout",
     "output_type": "stream",
     "text": [
      "before:  ['Joana', 'Alton', 'Tobias'] \n",
      "\n",
      "\n",
      "after:  ['Joana', 'Alton Derosa', 'Tobias']\n"
     ]
    }
   ],
   "source": [
    "party_list = [\"Joana\", \"Alton\", \"Tobias\"]\n",
    "print(\"before: \", party_list, \"\\n\")\n",
    "\n",
    "#adds in a new name together with an existing name\n",
    "party_list[1] = party_list[1] + \" Derosa\"\n",
    "print(\"\\nafter: \", party_list)"
   ]
  }
 ],
 "metadata": {
  "kernelspec": {
   "display_name": "Python 3",
   "language": "python",
   "name": "python3"
  },
  "language_info": {
   "codemirror_mode": {
    "name": "ipython",
    "version": 3
   },
   "file_extension": ".py",
   "mimetype": "text/x-python",
   "name": "python",
   "nbconvert_exporter": "python",
   "pygments_lexer": "ipython3",
   "version": "3.7.1"
  }
 },
 "nbformat": 4,
 "nbformat_minor": 2
}
