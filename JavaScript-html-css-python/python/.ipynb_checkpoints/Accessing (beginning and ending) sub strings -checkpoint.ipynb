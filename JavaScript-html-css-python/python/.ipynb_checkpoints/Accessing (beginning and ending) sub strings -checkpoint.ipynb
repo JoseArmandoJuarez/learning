{
 "cells": [
  {
   "cell_type": "code",
   "execution_count": 2,
   "metadata": {},
   "outputs": [
    {
     "name": "stdout",
     "output_type": "stream",
     "text": [
      "slice student_name[2:5]: let\n"
     ]
    }
   ],
   "source": [
    "student_name = \"Colette\"\n",
    "#[2:5] means that it starts at index 2 and ends at index 5\n",
    "print(\"slice student_name[2:5]:\",student_name[2:5])"
   ]
  },
  {
   "cell_type": "code",
   "execution_count": 4,
   "metadata": {},
   "outputs": [
    {
     "name": "stdout",
     "output_type": "stream",
     "text": [
      "index 2, 3 & 4 of student_name: let\n"
     ]
    }
   ],
   "source": [
    "print(\"index 2, 3 & 4 of student_name:\", student_name[2] + student_name[3] + student_name[4])"
   ]
  },
  {
   "cell_type": "code",
   "execution_count": 6,
   "metadata": {},
   "outputs": [
    {
     "name": "stdout",
     "output_type": "stream",
     "text": [
      "knowledge\n",
      "knowledge is the 3rd char through the 11th char\n",
      "knowledge is the index 2, \"k\", through index 10, \"e\"\n"
     ]
    }
   ],
   "source": [
    "\n",
    "long_word = 'Acknowledgement'\n",
    "print(long_word[2:11])\n",
    "print(long_word[2:11], \"is the 3rd char through the 11th char\")\n",
    "print(long_word[2:11], \"is the index 2, \\\"\" + long_word[2] + \"\\\",\", \"through index 10, \\\"\" + long_word[10] + \"\\\"\")"
   ]
  },
  {
   "cell_type": "code",
   "execution_count": 8,
   "metadata": {},
   "outputs": [
    {
     "name": "stdout",
     "output_type": "stream",
     "text": [
      "Col\n"
     ]
    }
   ],
   "source": [
    "#ACCESSING BEGINNING OF SUB-STRINGS\n",
    "student_name = \"Colette\"\n",
    "# addressing the 1st, 2nd & 3rd characters\n",
    "print(student_name[:3]) #stops at index 3\n"
   ]
  },
  {
   "cell_type": "code",
   "execution_count": null,
   "metadata": {},
   "outputs": [],
   "source": [
    "#ACCESSING ENDING OF SUB-STRINGS\n",
    "student_name = \"Collete\"\n",
    "\n",
    "#starts at index 3 to no ending value spesified\n",
    "print(student_name[3:])\n",
    "\n",
    "#can also put a stop by adding the last index\n",
    "print(student_name[3:7])\n"
   ]
  }
 ],
 "metadata": {
  "kernelspec": {
   "display_name": "Python 3",
   "language": "python",
   "name": "python3"
  },
  "language_info": {
   "codemirror_mode": {
    "name": "ipython",
    "version": 3
   },
   "file_extension": ".py",
   "mimetype": "text/x-python",
   "name": "python",
   "nbconvert_exporter": "python",
   "pygments_lexer": "ipython3",
   "version": "3.7.1"
  }
 },
 "nbformat": 4,
 "nbformat_minor": 2
}
