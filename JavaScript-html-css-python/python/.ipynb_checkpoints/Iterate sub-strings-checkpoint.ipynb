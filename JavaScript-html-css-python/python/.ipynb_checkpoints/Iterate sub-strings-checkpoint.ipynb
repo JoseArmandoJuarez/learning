{
 "cells": [
  {
   "cell_type": "code",
   "execution_count": 2,
   "metadata": {},
   "outputs": [
    {
     "name": "stdout",
     "output_type": "stream",
     "text": [
      "S\n",
      "k\n",
      "y\n"
     ]
    }
   ],
   "source": [
    "student_name = \"Skye\"\n",
    "\n",
    "#stops at index 3\n",
    "for letter in student_name[:3]:\n",
    "\tprint(letter)"
   ]
  },
  {
   "cell_type": "code",
   "execution_count": null,
   "metadata": {},
   "outputs": [],
   "source": [
    "student_name = \"Skye\"\n",
    "\n",
    "#prints out the name in reverse\n",
    "for letter in student_name[::-1]:\n",
    "\tprint(letter)"
   ]
  }
 ],
 "metadata": {
  "kernelspec": {
   "display_name": "Python 3",
   "language": "python",
   "name": "python3"
  },
  "language_info": {
   "codemirror_mode": {
    "name": "ipython",
    "version": 3
   },
   "file_extension": ".py",
   "mimetype": "text/x-python",
   "name": "python",
   "nbconvert_exporter": "python",
   "pygments_lexer": "ipython3",
   "version": "3.7.1"
  }
 },
 "nbformat": 4,
 "nbformat_minor": 2
}
