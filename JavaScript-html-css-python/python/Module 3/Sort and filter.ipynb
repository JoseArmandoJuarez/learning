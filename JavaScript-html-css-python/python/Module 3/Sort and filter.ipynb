{
 "cells": [
  {
   "cell_type": "code",
   "execution_count": 4,
   "metadata": {},
   "outputs": [
    {
     "name": "stdout",
     "output_type": "stream",
     "text": [
      "SHORT NAMES:\n",
      "calcaneus\n",
      "talus\n",
      "cuboid\n",
      "navicular\n",
      "\n",
      "LONG NAMES:\n",
      "lateral cuneiform\n",
      "intermediate cuneiform\n",
      "medial cuneiform\n",
      "\n"
     ]
    }
   ],
   "source": [
    "#USE COMPARISON OPERATORS WHILE ITERATING LISTS\n",
    "\n",
    "foot_bones = [\"calcaneus\", \"talus\", \"cuboid\", \"navicular\", \"lateral cuneiform\", \"intermediate cuneiform\", \"medial cuneiform\"]\n",
    "longer_names = \"\"\n",
    "shorter_names = \"\"\n",
    "\n",
    "#Organizes short and long names in two different groups\n",
    "for bone_name in foot_bones:\n",
    "    if len(bone_name) < 10:\n",
    "        shorter_names += bone_name + \"\\n\"\n",
    "    else:\n",
    "        longer_names += bone_name + \"\\n\"\n",
    "\n",
    "print(\"SHORT NAMES:\\n\" + shorter_names)\n",
    "print(\"LONG NAMES:\\n\" + longer_names)\n"
   ]
  },
  {
   "cell_type": "code",
   "execution_count": 5,
   "metadata": {},
   "outputs": [
    {
     "name": "stdout",
     "output_type": "stream",
     "text": [
      "['calcaneus', 'talus', 'cuboid', 'navicular', 'lateral']\n",
      "['lateral cuneiform', 'intermediate cuneiform', 'medial cuneiform']\n"
     ]
    }
   ],
   "source": [
    "#using append\n",
    "\n",
    "foot_bones = [\"calcaneus\", \"talus\", \"cuboid\", \"navicular\", \"lateral\", \"lateral cuneiform\", \"intermediate cuneiform\", \"medial cuneiform\"]\n",
    "\n",
    "longer_names = []\n",
    "shorter_names = []\n",
    "\n",
    "for bone_name in foot_bones:\n",
    "    if len(bone_name) < 10:\n",
    "        shorter_names.append(bone_name)\n",
    "    else:\n",
    "        longer_names.append(bone_name)\n",
    "\n",
    "print(shorter_names)\n",
    "print(longer_names)"
   ]
  }
 ],
 "metadata": {
  "kernelspec": {
   "display_name": "Python 3",
   "language": "python",
   "name": "python3"
  },
  "language_info": {
   "codemirror_mode": {
    "name": "ipython",
    "version": 3
   },
   "file_extension": ".py",
   "mimetype": "text/x-python",
   "name": "python",
   "nbconvert_exporter": "python",
   "pygments_lexer": "ipython3",
   "version": "3.7.1"
  }
 },
 "nbformat": 4,
 "nbformat_minor": 2
}
