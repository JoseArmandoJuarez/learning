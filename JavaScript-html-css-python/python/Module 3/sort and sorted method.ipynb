{
 "cells": [
  {
   "cell_type": "code",
   "execution_count": 2,
   "metadata": {},
   "outputs": [
    {
     "name": "stdout",
     "output_type": "stream",
     "text": [
      "initial quiz_scores:  [20, 19, 20, 15, 20, 20, 20, 18, 18, 18, 19]\n",
      "sorted quiz_scores:  [15, 18, 18, 18, 19, 19, 20, 20, 20, 20, 20]\n"
     ]
    }
   ],
   "source": [
    "quiz_scores = [20, 19, 20, 15, 20, 20, 20, 18, 18, 18, 19]\n",
    "print(\"initial quiz_scores: \", quiz_scores)\n",
    "\n",
    "#sorts out the scores from least to greatest\n",
    "quiz_scores.sort()\n",
    "\n",
    "print(\"sorted quiz_scores: \", quiz_scores)"
   ]
  },
  {
   "cell_type": "code",
   "execution_count": 4,
   "metadata": {},
   "outputs": [
    {
     "name": "stdout",
     "output_type": "stream",
     "text": [
      "game_points list:  [3, 14, 0, 8, 21, 1, 3, 8]\n",
      "sorted_points list:  [0, 1, 3, 3, 8, 8, 14, 21]\n"
     ]
    }
   ],
   "source": [
    "game_points = [3, 14, 0, 8, 21, 1, 3, 8]\n",
    "\n",
    "#sorts out points from least to greatest\n",
    "sorted_points = sorted(game_points)\n",
    "\n",
    "print(\"game_points list: \", game_points)\n",
    "print(\"sorted_points list: \", sorted_points)"
   ]
  },
  {
   "cell_type": "code",
   "execution_count": 6,
   "metadata": {},
   "outputs": [
    {
     "name": "stdout",
     "output_type": "stream",
     "text": [
      "Unsorted ['Dubai', 'Mexico City', 'Sao Paulo', 'Hyderabad']\n",
      "Sorted  ['Dubai', 'Hyderabad', 'Mexico City', 'Sao Paulo']\n"
     ]
    }
   ],
   "source": [
    "cities_1 = [\"Dubai\", \"Mexico City\", \"Sao Paulo\", \"Hyderabad\"]\n",
    "\n",
    "#sorts it out alphabeticaly\n",
    "print(\"Unsorted\", cities_1)\n",
    "cities_1.sort()\n",
    "print(\"Sorted \", cities_1)"
   ]
  },
  {
   "cell_type": "code",
   "execution_count": null,
   "metadata": {},
   "outputs": [],
   "source": [
    "\n"
   ]
  }
 ],
 "metadata": {
  "kernelspec": {
   "display_name": "Python 3",
   "language": "python",
   "name": "python3"
  },
  "language_info": {
   "codemirror_mode": {
    "name": "ipython",
    "version": 3
   },
   "file_extension": ".py",
   "mimetype": "text/x-python",
   "name": "python",
   "nbconvert_exporter": "python",
   "pygments_lexer": "ipython3",
   "version": "3.7.1"
  }
 },
 "nbformat": 4,
 "nbformat_minor": 2
}
