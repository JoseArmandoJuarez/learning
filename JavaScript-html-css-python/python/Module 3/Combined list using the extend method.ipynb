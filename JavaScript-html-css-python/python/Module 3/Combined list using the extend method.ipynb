{
 "cells": [
  {
   "cell_type": "code",
   "execution_count": 2,
   "metadata": {},
   "outputs": [
    {
     "name": "stdout",
     "output_type": "stream",
     "text": [
      "ALL CITIES ['New York', 'Shanghai', 'Munich', 'Tokyo', 'Dubai', 'Mexico city', 'Sao Paulo', 'Hyderaba', 'Reykjavik', 'Moscow', 'Beijing', 'Lamu']\n"
     ]
    }
   ],
   "source": [
    "visited_cities = [\"New York\", \"Shanghai\", \"Munich\", \"Tokyo\", \"Dubai\", \"Mexico city\", \"Sao Paulo\", \"Hyderaba\"]\n",
    "wish_cities = [\"Reykjavik\", \"Moscow\", \"Beijing\", \"Lamu\"]\n",
    "\n",
    "#puts the two together\n",
    "visited_cities.extend(wish_cities)\n",
    "\n",
    "print(\"ALL CITIES\", visited_cities)"
   ]
  },
  {
   "cell_type": "code",
   "execution_count": 3,
   "metadata": {},
   "outputs": [
    {
     "name": "stdout",
     "output_type": "stream",
     "text": [
      "ALL CITIES\n",
      "New York\n",
      "Shanghai\n",
      "Munich\n",
      "Tokyo\n",
      "Dubai\n",
      "Mexico city\n",
      "Sao Paulo\n",
      "Hyderaba\n",
      "Reykjavik\n",
      "Moscow\n",
      "Beijing\n",
      "Lamu\n"
     ]
    }
   ],
   "source": [
    "visited_cities = [\"New York\", \"Shanghai\", \"Munich\", \"Tokyo\", \"Dubai\", \"Mexico city\", \"Sao Paulo\", \"Hyderaba\"]\n",
    "wish_cities = [\"Reykjavik\", \"Moscow\", \"Beijing\", \"Lamu\"]\n",
    "\n",
    "all_cities = visited_cities + wish_cities\n",
    "\n",
    "print(\"ALL CITIES\")\n",
    "for city in all_cities:\n",
    "    print(city)"
   ]
  }
 ],
 "metadata": {
  "kernelspec": {
   "display_name": "Python 3",
   "language": "python",
   "name": "python3"
  },
  "language_info": {
   "codemirror_mode": {
    "name": "ipython",
    "version": 3
   },
   "file_extension": ".py",
   "mimetype": "text/x-python",
   "name": "python",
   "nbconvert_exporter": "python",
   "pygments_lexer": "ipython3",
   "version": "3.7.1"
  }
 },
 "nbformat": 4,
 "nbformat_minor": 2
}
