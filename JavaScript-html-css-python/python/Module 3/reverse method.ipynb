{
 "cells": [
  {
   "cell_type": "code",
   "execution_count": 2,
   "metadata": {},
   "outputs": [
    {
     "name": "stdout",
     "output_type": "stream",
     "text": [
      "initial order  ['Dubai', 'Mexico City', 'Sao Paulo', 'Hyderabad']\n",
      "reversed order  ['Hyderabad', 'Sao Paulo', 'Mexico City', 'Dubai']\n"
     ]
    }
   ],
   "source": [
    "cities_1 = [\"Dubai\", \"Mexico City\", \"Sao Paulo\", \"Hyderabad\"]\n",
    "\n",
    "print(\"initial order \", cities_1)\n",
    "cities_1.reverse()\n",
    "\n",
    "print(\"reversed order \", cities_1)"
   ]
  },
  {
   "cell_type": "code",
   "execution_count": 3,
   "metadata": {},
   "outputs": [
    {
     "name": "stdout",
     "output_type": "stream",
     "text": [
      "initial list [0, 1, 2, 3, 4, 5, 6, 7, 8, 9, 10, 20, 30, 40, 50, 60, 70, 80, 90, 100] \n",
      "\n",
      "reverse list [100, 90, 80, 70, 60, 50, 40, 30, 20, 10, 9, 8, 7, 6, 5, 4, 3, 2, 1, 0] \n",
      "\n"
     ]
    }
   ],
   "source": [
    "all_num = [0, 1, 2, 3, 4, 5, 6, 7, 8, 9, 10, 20, 30, 40, 50, 60, 70, 80, 90, 100]\n",
    "\n",
    "print(\"initial list\", all_num, \"\\n\")\n",
    "all_num.reverse()\n",
    "\n",
    "print(\"reverse list\", all_num, \"\\n\")\n",
    "num_len = len(all_num)"
   ]
  }
 ],
 "metadata": {
  "kernelspec": {
   "display_name": "Python 3",
   "language": "python",
   "name": "python3"
  },
  "language_info": {
   "codemirror_mode": {
    "name": "ipython",
    "version": 3
   },
   "file_extension": ".py",
   "mimetype": "text/x-python",
   "name": "python",
   "nbconvert_exporter": "python",
   "pygments_lexer": "ipython3",
   "version": "3.7.1"
  }
 },
 "nbformat": 4,
 "nbformat_minor": 2
}
