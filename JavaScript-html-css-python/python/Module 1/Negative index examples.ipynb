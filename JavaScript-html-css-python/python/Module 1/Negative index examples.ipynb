{
 "cells": [
  {
   "cell_type": "code",
   "execution_count": 6,
   "metadata": {},
   "outputs": [
    {
     "data": {
      "text/plain": [
       "'a'"
      ]
     },
     "execution_count": 6,
     "metadata": {},
     "output_type": "execute_result"
    }
   ],
   "source": [
    "#index is at -1 of the string\n",
    "student_name = \"Joana\"\n",
    "student_name[-1]\n"
   ]
  },
  {
   "cell_type": "code",
   "execution_count": 8,
   "metadata": {},
   "outputs": [
    {
     "name": "stdout",
     "output_type": "stream",
     "text": [
      "Joana ends with 'a'\n"
     ]
    }
   ],
   "source": [
    "end_letter = student_name[-1]\n",
    "print(student_name, \"ends with\", \"'\" + end_letter + \"'\")"
   ]
  },
  {
   "cell_type": "code",
   "execution_count": 10,
   "metadata": {},
   "outputs": [
    {
     "name": "stdout",
     "output_type": "stream",
     "text": [
      "Joana has 2nd to last letter of 'n'\n"
     ]
    }
   ],
   "source": [
    "second_last_letter = student_name[-2]\n",
    "print(student_name,\"has 2nd to last letter of\", \"'\" + second_last_letter + \"'\")"
   ]
  },
  {
   "cell_type": "code",
   "execution_count": 11,
   "metadata": {},
   "outputs": [
    {
     "name": "stdout",
     "output_type": "stream",
     "text": [
      "Joana\n",
      "index 3 = 'n'\n",
      "index -2 = 'n'\n"
     ]
    }
   ],
   "source": [
    "print(student_name)\n",
    "print(\"index 3 =\", \"'\" + student_name[3] + \"'\")\n",
    "print(\"index -2 =\",\"'\" + student_name[-2] + \"'\")"
   ]
  }
 ],
 "metadata": {
  "kernelspec": {
   "display_name": "Python 3",
   "language": "python",
   "name": "python3"
  },
  "language_info": {
   "codemirror_mode": {
    "name": "ipython",
    "version": 3
   },
   "file_extension": ".py",
   "mimetype": "text/x-python",
   "name": "python",
   "nbconvert_exporter": "python",
   "pygments_lexer": "ipython3",
   "version": "3.7.1"
  }
 },
 "nbformat": 4,
 "nbformat_minor": 2
}
