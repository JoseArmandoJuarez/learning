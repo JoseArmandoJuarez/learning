{
 "cells": [
  {
   "cell_type": "code",
   "execution_count": 3,
   "metadata": {},
   "outputs": [
    {
     "name": "stdout",
     "output_type": "stream",
     "text": [
      "find the index of the space\n",
      "4 \n",
      "\n"
     ]
    }
   ],
   "source": [
    "work_tip = \"save your code\"\n",
    "print(\"find the index of the space\")\n",
    "\n",
    "print(work_tip.find(\" \"),\"\\n\")"
   ]
  },
  {
   "cell_type": "code",
   "execution_count": 5,
   "metadata": {},
   "outputs": [
    {
     "name": "stdout",
     "output_type": "stream",
     "text": [
      "good code meaningful variable names\n",
      "5 = starting index for \"code\"\n"
     ]
    }
   ],
   "source": [
    "work_tip = \"good code meaningful variable names\"\n",
    "print(work_tip)\n",
    "\n",
    "code_here = work_tip.find(\"code\")\n",
    "print(code_here, '= starting index for \"code\"')"
   ]
  },
  {
   "cell_type": "code",
   "execution_count": 7,
   "metadata": {},
   "outputs": [
    {
     "name": "stdout",
     "output_type": "stream",
     "text": [
      "work_tip: good code meaningful variable names \n",
      "\n",
      "'o' at index = 1\n",
      "'o' at index = 2\n",
      "'o' at index = 6\n",
      "\n",
      "no more o's, -1 was returned\n"
     ]
    }
   ],
   "source": [
    "print (\"work_tip:\", work_tip, \"\\n\")\n",
    "location = work_tip.find(\"o\")\n",
    "\n",
    "while location >= 0:\n",
    "\tprint(\"'o' at index =\", location)\n",
    "\n",
    "\tlocation = work_tip.find(\"o\", location + 1)\n",
    "\n",
    "print(\"\\nno more o's, -1 was returned\")\n"
   ]
  },
  {
   "cell_type": "code",
   "execution_count": 8,
   "metadata": {},
   "outputs": [
    {
     "name": "stdout",
     "output_type": "stream",
     "text": [
      "search for \"meaning\" in the sub-string: ningful variable nam \n",
      "\n",
      "\"meaning\" found in work_tip[13:33] sub-string search at index -1\n"
     ]
    }
   ],
   "source": [
    "print('search for \"meaning\" in the sub-string:', work_tip[13:33],\"\\n\")\n",
    "\n",
    "meaning_here = work_tip.find (\"meaning\",13,33)\n",
    "print('\"meaning\" found in work_tip[13:33] sub-string search at index', meaning_here)"
   ]
  }
 ],
 "metadata": {
  "kernelspec": {
   "display_name": "Python 3",
   "language": "python",
   "name": "python3"
  },
  "language_info": {
   "codemirror_mode": {
    "name": "ipython",
    "version": 3
   },
   "file_extension": ".py",
   "mimetype": "text/x-python",
   "name": "python",
   "nbconvert_exporter": "python",
   "pygments_lexer": "ipython3",
   "version": "3.7.1"
  }
 },
 "nbformat": 4,
 "nbformat_minor": 2
}
