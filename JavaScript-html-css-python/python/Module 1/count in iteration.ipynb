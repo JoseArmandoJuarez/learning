{
 "cells": [
  {
   "cell_type": "code",
   "execution_count": 6,
   "metadata": {},
   "outputs": [
    {
     "name": "stdout",
     "output_type": "stream",
     "text": [
      "The total # of \"a\" found in the list is 7\n"
     ]
    }
   ],
   "source": [
    "#ITERATE LISTS OF STRINGS TO FIND OCCURANCES OF A CHARACTER .COUNT()\n",
    "\n",
    "cities = [\"New York\", \"Shanghai\", \"Munish\", \"Tokyo\", \"Dubai\", \"Mexico City\", \"Sao Paulo\", \"Hyderabad\"]\n",
    "search_letter = \"a\"\n",
    "total = 0\n",
    "for city_name in cities:\n",
    "    total += city_name.lower().count(search_letter)\n",
    "    \n",
    "print(\"The total # of \\\"\" + search_letter + \"\\\" found in the list is\", total)"
   ]
  }
 ],
 "metadata": {
  "kernelspec": {
   "display_name": "Python 3",
   "language": "python",
   "name": "python3"
  },
  "language_info": {
   "codemirror_mode": {
    "name": "ipython",
    "version": 3
   },
   "file_extension": ".py",
   "mimetype": "text/x-python",
   "name": "python",
   "nbconvert_exporter": "python",
   "pygments_lexer": "ipython3",
   "version": "3.7.1"
  }
 },
 "nbformat": 4,
 "nbformat_minor": 2
}
