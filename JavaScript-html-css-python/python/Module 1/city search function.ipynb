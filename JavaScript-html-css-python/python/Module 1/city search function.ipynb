{
 "cells": [
  {
   "cell_type": "code",
   "execution_count": 1,
   "metadata": {},
   "outputs": [
    {
     "name": "stdout",
     "output_type": "stream",
     "text": [
      "entere a city visited: Shanghai\n",
      "\n",
      "Shanghai in default cities is True\n",
      "Shanghai in visited_cities list is True\n"
     ]
    }
   ],
   "source": [
    "#BUILT CITY_SEARCH FUNCTION USING FOR IN ITERATON\n",
    "\n",
    "def city_search(search_item, cities = [\"New York\", \"Shanghai\", \"Munich\", \"Tokyo\"]):\n",
    "    for city in cities:\n",
    "        if city.lower() == search_item.lower():\n",
    "            return True\n",
    "        else:\n",
    "            pass\n",
    "        \n",
    "    return False\n",
    "\n",
    "visited_cities = [\"New York\", \"Shanghai\", \"Munich\", \"Tokyo\", \"Dubai\", \"Mexico city\", \"Sao Paulo\", \"Hyderabad\"]\n",
    "search = input(\"entere a city visited: \")\n",
    "print()\n",
    "\n",
    "print(search.title(), \"in default cities is\", city_search(search))\n",
    "\n",
    "print(search.title(), \"in visited_cities list is\", city_search(search, visited_cities))"
   ]
  }
 ],
 "metadata": {
  "kernelspec": {
   "display_name": "Python 3",
   "language": "python",
   "name": "python3"
  },
  "language_info": {
   "codemirror_mode": {
    "name": "ipython",
    "version": 3
   },
   "file_extension": ".py",
   "mimetype": "text/x-python",
   "name": "python",
   "nbconvert_exporter": "python",
   "pygments_lexer": "ipython3",
   "version": "3.7.1"
  }
 },
 "nbformat": 4,
 "nbformat_minor": 2
}
