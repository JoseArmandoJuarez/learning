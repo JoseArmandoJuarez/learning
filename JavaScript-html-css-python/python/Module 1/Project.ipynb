{
 "cells": [
  {
   "cell_type": "code",
   "execution_count": 2,
   "metadata": {},
   "outputs": [
    {
     "ename": "SyntaxError",
     "evalue": "invalid syntax (<ipython-input-2-115e9e3400e0>, line 29)",
     "output_type": "error",
     "traceback": [
      "\u001b[1;36m  File \u001b[1;32m\"<ipython-input-2-115e9e3400e0>\"\u001b[1;36m, line \u001b[1;32m29\u001b[0m\n\u001b[1;33m    else:\u001b[0m\n\u001b[1;37m       ^\u001b[0m\n\u001b[1;31mSyntaxError\u001b[0m\u001b[1;31m:\u001b[0m invalid syntax\n"
     ]
    }
   ],
   "source": [
    "#Important Assignment Requirements\n",
    "#NOTE: This program requires print output and using code syntax used in module 1 such as keywords \n",
    "#for/in (iteration), input, if, else, .isalpha() method, .lower() or .upper() method\n",
    "\n",
    "#Program: Words after \"G\"/\"g\"\n",
    "#Create a program inputs a phrase (like a famous quotation) and prints all of the words that start with h-z\n",
    "\n",
    "#Sample input:\n",
    "#enter a 1 sentence quote, non-alpha separate words: Wheresoever you go, go with all your heart\n",
    "\n",
    "#Sample output:\n",
    "\n",
    "#WHERESOEVER\n",
    "#YOU\n",
    "#WITH\n",
    "#YOUR\n",
    "#HEART\n",
    "\n",
    "#my work\n",
    "phrase = input (\"Please enter a phrase: \").lower() \n",
    "word = \"\" \n",
    "for letter in phrase:     \n",
    "    if letter.isalpha():         \n",
    "        word += letter     \n",
    "else: \n",
    "    if(word > \"h\" ):             \n",
    "        print(word)             \n",
    "        word = \"\"         \n",
    "else:             \n",
    "    word = \"\" print(word)"
   ]
  }
 ],
 "metadata": {
  "kernelspec": {
   "display_name": "Python 3",
   "language": "python",
   "name": "python3"
  },
  "language_info": {
   "codemirror_mode": {
    "name": "ipython",
    "version": 3
   },
   "file_extension": ".py",
   "mimetype": "text/x-python",
   "name": "python",
   "nbconvert_exporter": "python",
   "pygments_lexer": "ipython3",
   "version": "3.7.1"
  }
 },
 "nbformat": 4,
 "nbformat_minor": 2
}
