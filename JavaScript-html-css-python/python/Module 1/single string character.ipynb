{
 "cells": [
  {
   "cell_type": "code",
   "execution_count": 2,
   "metadata": {},
   "outputs": [
    {
     "name": "stdout",
     "output_type": "stream",
     "text": [
      "A <-- first character at index 0\n",
      "l\n",
      "t\n",
      "o\n",
      "n\n"
     ]
    }
   ],
   "source": [
    "student_name = \"Alton\"\n",
    "\n",
    "print(student_name[0], \"<-- first character at index 0\")\n",
    "print(student_name[1])\n",
    "print(student_name[2])\n",
    "print(student_name[3])\n",
    "print(student_name[4])"
   ]
  },
  {
   "cell_type": "code",
   "execution_count": 4,
   "metadata": {},
   "outputs": [
    {
     "name": "stdout",
     "output_type": "stream",
     "text": [
      "Winner! Name starts with J: Jin\n"
     ]
    }
   ],
   "source": [
    "student_name = \"Jin\"\n",
    "if student_name[0].lower() == \"a\":\n",
    "    print('Winner! Name starts with A:', student_name)\n",
    "elif student_name[0].lower() == \"j\":\n",
    "    print('Winner! Name starts with J:', student_name)\n",
    "else:\n",
    "    print('Not a match, try again tomorrow:', student_name)"
   ]
  },
  {
   "cell_type": "code",
   "execution_count": 5,
   "metadata": {},
   "outputs": [
    {
     "name": "stdout",
     "output_type": "stream",
     "text": [
      "s\n"
     ]
    }
   ],
   "source": [
    "student_name = \"Tobias\"\n",
    "#print out index 5\n",
    "print(student_name[5])"
   ]
  }
 ],
 "metadata": {
  "kernelspec": {
   "display_name": "Python 3",
   "language": "python",
   "name": "python3"
  },
  "language_info": {
   "codemirror_mode": {
    "name": "ipython",
    "version": 3
   },
   "file_extension": ".py",
   "mimetype": "text/x-python",
   "name": "python",
   "nbconvert_exporter": "python",
   "pygments_lexer": "ipython3",
   "version": "3.7.1"
  }
 },
 "nbformat": 4,
 "nbformat_minor": 2
}
