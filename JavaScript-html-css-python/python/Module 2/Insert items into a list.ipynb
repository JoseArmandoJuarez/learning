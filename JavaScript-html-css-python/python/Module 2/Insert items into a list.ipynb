{
 "cells": [
  {
   "cell_type": "code",
   "execution_count": 2,
   "metadata": {},
   "outputs": [
    {
     "name": "stdout",
     "output_type": "stream",
     "text": [
      "party_list before:  ['Joana', 'Alton', 'Tobias']\n",
      "index 1 is Alton\n",
      "index 2 is Tobias \n",
      "\n"
     ]
    }
   ],
   "source": [
    "party_list = [\"Joana\", \"Alton\", \"Tobias\"]\n",
    "print(\"party_list before: \", party_list)\n",
    "\n",
    "#displays in what position are the names\n",
    "print(\"index 1 is\", party_list[1])\n",
    "print(\"index 2 is\", party_list[2], \"\\n\")"
   ]
  },
  {
   "cell_type": "code",
   "execution_count": 3,
   "metadata": {},
   "outputs": [
    {
     "name": "stdout",
     "output_type": "stream",
     "text": [
      "party_list after:  ['Joana', 'Colette', 'Alton', 'Tobias']\n",
      "index 1 is Colette \n",
      "index 2 is Alton \n",
      "index 3 is Tobias\n"
     ]
    }
   ],
   "source": [
    "#inserts new name in index 1\n",
    "party_list.insert(1, \"Colette\")\n",
    "\n",
    "#then displays the position\n",
    "print(\"party_list after: \", party_list)\n",
    "print(\"index 1 is\", party_list[1], \"\\nindex 2 is\", party_list[2], \"\\nindex 3 is\", party_list[3])"
   ]
  },
  {
   "cell_type": "code",
   "execution_count": 4,
   "metadata": {},
   "outputs": [
    {
     "name": "stdout",
     "output_type": "stream",
     "text": [
      "['Joana', 'Colette', 'Alton', 'Tobias'] before \n",
      "\n",
      "['Joana', 'Colette', 'Alton', 'Tobias', 'Ten']\n"
     ]
    }
   ],
   "source": [
    "#inserts a number at the end of the list\n",
    "print(party_list, \"before \\n\")\n",
    "party_list.insert(10, \"Ten\")\n",
    "print(party_list)"
   ]
  }
 ],
 "metadata": {
  "kernelspec": {
   "display_name": "Python 3",
   "language": "python",
   "name": "python3"
  },
  "language_info": {
   "codemirror_mode": {
    "name": "ipython",
    "version": 3
   },
   "file_extension": ".py",
   "mimetype": "text/x-python",
   "name": "python",
   "nbconvert_exporter": "python",
   "pygments_lexer": "ipython3",
   "version": "3.7.1"
  }
 },
 "nbformat": 4,
 "nbformat_minor": 2
}
