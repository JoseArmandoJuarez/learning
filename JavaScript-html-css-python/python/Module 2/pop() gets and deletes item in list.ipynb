{
 "cells": [
  {
   "cell_type": "code",
   "execution_count": 3,
   "metadata": {},
   "outputs": [
    {
     "name": "stdout",
     "output_type": "stream",
     "text": [
      "['Joana', 'Alton', 'Tobias']\n",
      "Hello Tobias \n",
      "\n",
      "['Joana', 'Alton']\n",
      "Hello, Alton \n",
      "\n",
      "['Joana']\n",
      "Hello, Joana \n",
      "\n",
      "[] \n",
      "\n"
     ]
    }
   ],
   "source": [
    "\n",
    "# pop() gets the last item by default\n",
    "party_list = [\"Joana\", \"Alton\", \"Tobias\"]\n",
    "print(party_list)\n",
    "print(\"Hello\", party_list.pop(), \"\\n\")\n",
    "\n",
    "#takes out an item\n",
    "print(party_list)\n",
    "print(\"Hello,\", party_list.pop(), \"\\n\")\n",
    "\n",
    "#takes out another item\n",
    "print(party_list)\n",
    "print(\"Hello,\", party_list.pop(), \"\\n\")\n",
    "\n",
    "print(party_list, \"\\n\")\n"
   ]
  },
  {
   "cell_type": "code",
   "execution_count": 5,
   "metadata": {},
   "outputs": [
    {
     "name": "stdout",
     "output_type": "stream",
     "text": [
      "before:  [11, 21, 13, 14, 51, 161, 117, 181] \n",
      "\n",
      "after:  [11, 21, 13, 51, 161, 117, 181] \n",
      "\n"
     ]
    }
   ],
   "source": [
    "#prints out list\n",
    "number_list = [11, 21, 13, 14, 51, 161, 117, 181]\n",
    "print(\"before: \", number_list, \"\\n\")\n",
    "\n",
    "#takes index 3\n",
    "number_list.pop(3)\n",
    "print(\"after: \", number_list, \"\\n\")"
   ]
  },
  {
   "cell_type": "code",
   "execution_count": 6,
   "metadata": {},
   "outputs": [
    {
     "name": "stdout",
     "output_type": "stream",
     "text": [
      "list before:  [11, 21, 13, 14, 51, 161, 117, 181] \n",
      "\n",
      "list after:  [11, 21, 13, 14, 51, 161] \n",
      "\n",
      "add the popped values:  181 + 117 = 298\n"
     ]
    }
   ],
   "source": [
    "number_list = [11, 21, 13, 14, 51, 161, 117, 181]\n",
    "print(\"list before: \", number_list, \"\\n\")\n",
    "\n",
    "num_1 = number_list.pop()\n",
    "num_2 = number_list.pop()\n",
    "\n",
    "print(\"list after: \", number_list, \"\\n\")\n",
    "print(\"add the popped values: \", num_1, \"+\", num_2, \"=\", num_1 + num_2)"
   ]
  }
 ],
 "metadata": {
  "kernelspec": {
   "display_name": "Python 3",
   "language": "python",
   "name": "python3"
  },
  "language_info": {
   "codemirror_mode": {
    "name": "ipython",
    "version": 3
   },
   "file_extension": ".py",
   "mimetype": "text/x-python",
   "name": "python",
   "nbconvert_exporter": "python",
   "pygments_lexer": "ipython3",
   "version": "3.7.1"
  }
 },
 "nbformat": 4,
 "nbformat_minor": 2
}
