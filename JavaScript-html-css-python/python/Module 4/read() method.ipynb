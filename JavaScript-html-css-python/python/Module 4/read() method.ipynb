{
 "cells": [
  {
   "cell_type": "markdown",
   "metadata": {},
   "source": [
    ".read() loads the content of the file into memory as a string, including formatting such as new line (\\n)\n",
    "\n",
    "#open text file using the read method\n",
    "#asign it to poem_contents variable\n",
    "#and its gonna import text as a string including all the whitespaces new line character(\"\\n\")\n",
    "poem_contents = poem_file.read()\n",
    "\n",
    "poem_contents\n",
    "#output\n",
    "'Loops I repeat\\nloops\\nloops\\nloops\\nI repeat\\nuntil I\\nbreak\\n'\n",
    "\n",
    "#print the file\n",
    "print(poem_contents)\n",
    "#output\n",
    "Loops I repeat\n",
    "loops\n",
    "loops\n",
    "loops\n",
    "I repeat\n",
    "until I\n",
    "break"
   ]
  },
  {
   "cell_type": "code",
   "execution_count": null,
   "metadata": {},
   "outputs": [],
   "source": []
  }
 ],
 "metadata": {
  "kernelspec": {
   "display_name": "Python 3",
   "language": "python",
   "name": "python3"
  },
  "language_info": {
   "codemirror_mode": {
    "name": "ipython",
    "version": 3
   },
   "file_extension": ".py",
   "mimetype": "text/x-python",
   "name": "python",
   "nbconvert_exporter": "python",
   "pygments_lexer": "ipython3",
   "version": "3.7.1"
  }
 },
 "nbformat": 4,
 "nbformat_minor": 2
}
