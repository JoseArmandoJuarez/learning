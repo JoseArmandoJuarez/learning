{
 "cells": [
  {
   "cell_type": "markdown",
   "metadata": {},
   "source": [
    "# readlines() method\n",
    "\n",
    "poem1 = open('poem1.txt', 'r')       \n",
    "\n",
    "#.readlines() will read in each line of the text file as a list item             \n",
    "poem_lines = poem.readLines()           \n",
    "poem_lines             \n",
    "\n",
    "#output     \n",
    "['Loops I repeat\\n',          \n",
    " 'loops\\n',          \n",
    " 'loops\\n',         \n",
    " 'loops\\n',          \n",
    " 'I repeat\\n',      \n",
    " 'until I\\n',        \n",
    " 'break\\n']\n",
    "\n"
   ]
  },
  {
   "cell_type": "markdown",
   "metadata": {},
   "source": [
    "# give a new line just as a default\n",
    "for line in poem_lines:\n",
    "    print(line)\n",
    "    \n",
    "#output\n",
    "Loops I repeat\n",
    "\n",
    "loops\n",
    "\n",
    "loops\n",
    "\n",
    "loops\n",
    "\n",
    "I repeat\n",
    "\n",
    "until I\n",
    "\n",
    "break"
   ]
  },
  {
   "cell_type": "code",
   "execution_count": null,
   "metadata": {},
   "outputs": [],
   "source": []
  }
 ],
 "metadata": {
  "kernelspec": {
   "display_name": "Python 3",
   "language": "python",
   "name": "python3"
  },
  "language_info": {
   "codemirror_mode": {
    "name": "ipython",
    "version": 3
   },
   "file_extension": ".py",
   "mimetype": "text/x-python",
   "name": "python",
   "nbconvert_exporter": "python",
   "pygments_lexer": "ipython3",
   "version": "3.7.1"
  }
 },
 "nbformat": 4,
 "nbformat_minor": 2
}
