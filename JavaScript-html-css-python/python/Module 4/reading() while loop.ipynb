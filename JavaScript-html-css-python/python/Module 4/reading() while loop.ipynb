{
 "cells": [
  {
   "cell_type": "markdown",
   "metadata": {},
   "source": [
    "# while .readline()\n",
    "\n",
    "while loop continues while the readline() value in poem_line returns text                       \n",
    "\n",
    "#open in memory         \n",
    "poem1 = open('poem1.txt', 'r')         \n",
    "\n",
    "\n",
    "poem1.readline()            \n",
    "\n",
    "\n",
    "poem_line = poem1.readline()         \n",
    "\n",
    "#USIGN A WHILE LOOP TO DISPLAY THE POEM           \n",
    "#USE SLICE TO REMOVE '\\n'         \n",
    "while poem_line:       \n",
    "    print(poem_line[:-1].upper())           \n",
    "    poem_line = poem1.read1.readline()     \n",
    "    \n",
    "#output    \n",
    "LOOPS  I REPEAT     \n",
    "LOOPS   \n",
    "LOOPS   \n",
    "LOOPS   \n",
    "I REPEAT   \n",
    "UNTIL I   \n",
    "BREAK   \n",
    "\n",
    "\n"
   ]
  }
 ],
 "metadata": {
  "kernelspec": {
   "display_name": "Python 3",
   "language": "python",
   "name": "python3"
  },
  "language_info": {
   "codemirror_mode": {
    "name": "ipython",
    "version": 3
   },
   "file_extension": ".py",
   "mimetype": "text/x-python",
   "name": "python",
   "nbconvert_exporter": "python",
   "pygments_lexer": "ipython3",
   "version": "3.7.1"
  }
 },
 "nbformat": 4,
 "nbformat_minor": 2
}
