{
 "cells": [
  {
   "cell_type": "markdown",
   "metadata": {},
   "source": [
    "# .readline(): read files a line at a time\n",
    "\n",
    "use .readline() to read a line a file as a string"
   ]
  },
  {
   "cell_type": "markdown",
   "metadata": {},
   "source": [
    "#having poem1 in memory     \n",
    "poem1 = open('poem1.txt', 'r')   \n",
    "\n",
    "#each one of these .readline() statements will get the next line in order until we reach the end of the file     \n",
    "poem_line1 = poem1.readline()       \n",
    "peom_line2 = poem1.readline()     \n",
    "poem_line3 = poem1.readline()         \n",
    "\n",
    "print(poem_line1 + poem_line2 + poem_line3)    \n",
    "#output   \n",
    "Loops I repeat   \n",
    "loops   \n",
    "loops   \n",
    "\n",
    "poem1.readline()    \n",
    "\n",
    "#can keep hiting enter and gets every line in order until reach the end of the file    \n",
    "#output    \n",
    "'Loops I repeat\\n'  ...\n",
    "\n",
    "\n",
    "#closes the poem1 file and have to reopen to run it again         \n",
    "poem1.close()\n",
    "\n"
   ]
  }
 ],
 "metadata": {
  "kernelspec": {
   "display_name": "Python 3",
   "language": "python",
   "name": "python3"
  },
  "language_info": {
   "codemirror_mode": {
    "name": "ipython",
    "version": 3
   },
   "file_extension": ".py",
   "mimetype": "text/x-python",
   "name": "python",
   "nbconvert_exporter": "python",
   "pygments_lexer": "ipython3",
   "version": "3.7.1"
  }
 },
 "nbformat": 4,
 "nbformat_minor": 2
}
