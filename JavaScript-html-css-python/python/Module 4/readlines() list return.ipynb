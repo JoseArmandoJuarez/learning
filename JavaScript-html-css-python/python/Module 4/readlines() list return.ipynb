{
 "cells": [
  {
   "cell_type": "markdown",
   "metadata": {},
   "source": [
    "# remove new line (\"\\n\") chracters from lists\n",
    "\n",
    "poem1 = open('poem1.txt', 'r')         \n",
    "poem_lines = poem1.readlines()        \n",
    "print(poem_lines)       \n",
    " \n",
    "#output    \n",
    "['Loops I repeat\\n', 'loops\\n', 'loops\\n', 'loops\\n', 'I repeat\\n', 'until I\\n', 'break\\n']      \n",
    " \n",
    "\n",
    "for line in poem_lines:         \n",
    "    print(line)\n",
    "\n",
    "#output      \n",
    "Loops I repeat\n",
    "\n",
    "loops\n",
    "\n",
    "loops\n",
    "\n",
    "loops\n",
    "\n",
    "I repeat\n",
    "\n",
    "until I\n",
    "\n",
    "break"
   ]
  },
  {
   "cell_type": "markdown",
   "metadata": {},
   "source": [
    "# line[:-1]\n",
    "\n",
    "## sets the end point at the last character of the string\n",
    "\n",
    "the results is the '\\n' (newline) character is omitted\n",
    "\n",
    "count = 0\n",
    "\n",
    "#Make a string slice omitting the last character of the list\n",
    "for line in poem_lines: \n",
    "    poem_lines[count] = line[:-1]\n",
    "    count += 1\n",
    "    \n",
    "print(poem_lines)\n",
    "\n",
    "#output\n",
    "['Loops I repeat', 'loops', 'loops', 'loops', 'I repeat', 'until I', 'break']\n",
    "\n",
    "\n",
    "for line in poem_lines:\n",
    "    print(line)\n",
    "    \n",
    "#output\n",
    "Loops I repeat\n",
    "loops\n",
    "loops\n",
    "loops\n",
    "I repeat\n",
    "until I\n",
    "break"
   ]
  }
 ],
 "metadata": {
  "kernelspec": {
   "display_name": "Python 3",
   "language": "python",
   "name": "python3"
  },
  "language_info": {
   "codemirror_mode": {
    "name": "ipython",
    "version": 3
   },
   "file_extension": ".py",
   "mimetype": "text/x-python",
   "name": "python",
   "nbconvert_exporter": "python",
   "pygments_lexer": "ipython3",
   "version": "3.7.1"
  }
 },
 "nbformat": 4,
 "nbformat_minor": 2
}
