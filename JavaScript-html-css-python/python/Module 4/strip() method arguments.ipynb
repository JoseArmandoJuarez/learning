{
 "cells": [
  {
   "cell_type": "markdown",
   "metadata": {},
   "source": [
    "# .strip() with arguments\n",
    ".strip('*\\n') removes leading and tralling * and \\n\n",
    "\n",
    "rainbow_messy = open('rainbow_messy.txt', 'r')\n",
    "\n",
    "#this how the file looks like  \n",
    "print(rainbow_messy.read())\n",
    "\n",
    "#output\n",
    "**red**\n",
    "**orange**\n",
    "**yellow**\n",
    "**gree**\n",
    "**blue**\n",
    "**indigo**\n",
    "**violate**\n",
    "\n",
    "color = rainbow_messy.readline()\n",
    "\n",
    "#while loop get the next color\n",
    "while color:\n",
    "    print(color)\n",
    "    color = rainbow_messy.readline()\n",
    "    \n",
    "#output\n",
    "**red**\n",
    "\n",
    "**orange**\n",
    "\n",
    "**yellow**\n",
    "\n",
    "**gree**\n",
    "\n",
    "**blue**\n",
    "\n",
    "**indigo**\n",
    "\n",
    "**violet**"
   ]
  },
  {
   "cell_type": "markdown",
   "metadata": {},
   "source": [
    "#use strip method with argument\n",
    "#strip method removes white space and asterisk\n",
    "\n",
    "rainbow_messy = open('rainbow_messy', 'r')\n",
    "\n",
    "#strip any of these characters that you encounter\n",
    "color = rainbow_messy.readline().strip('*\\n')\n",
    "\n",
    "while color:\n",
    "    print(color)\n",
    "    color = rainbow_messy.readline().strip('*\\n')\n",
    "    \n",
    "rainbow_messy.close()\n",
    "\n",
    "#output\n",
    "red\n",
    "orange\n",
    "yellow\n",
    "gree\n",
    "blue\n",
    "indigo\n",
    "violet"
   ]
  }
 ],
 "metadata": {
  "kernelspec": {
   "display_name": "Python 3",
   "language": "python",
   "name": "python3"
  },
  "language_info": {
   "codemirror_mode": {
    "name": "ipython",
    "version": 3
   },
   "file_extension": ".py",
   "mimetype": "text/x-python",
   "name": "python",
   "nbconvert_exporter": "python",
   "pygments_lexer": "ipython3",
   "version": "3.7.1"
  }
 },
 "nbformat": 4,
 "nbformat_minor": 2
}
