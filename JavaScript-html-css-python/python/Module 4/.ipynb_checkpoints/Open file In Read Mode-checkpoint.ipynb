{
 "cells": [
  {
   "cell_type": "markdown",
   "metadata": {},
   "source": [
    "Creates an object that can be addressed in python code\n",
    "\n",
    "MODE       |     DESCRIPTION\n",
    "-----------------------------------------\n",
    "'r'           |    Read only mode\n",
    "'w'           |    write - overwrites file with same name\n",
    "'r+'          |    read and write mode\n",
    "'a'           |    Opens for appending to end of file"
   ]
  },
  {
   "cell_type": "markdown",
   "metadata": {},
   "source": [
    "#opens fiel in read mode\n",
    "poem_file = open('poem1.txt', 'r')\n",
    "#when hit enter the you can not see the file but the file is now available in the local memory\n",
    "\n",
    "#Can address the file in the console\n",
    "poem_file\n",
    "\n",
    "#ouput / get some info about the file and that the file exists\n",
    "<_io.TextIOWrapper name='poem1.txt' mode='r' encoding='ANSI_X3.4-1968'>\n"
   ]
  },
  {
   "cell_type": "markdown",
   "metadata": {},
   "source": [
    "Mode |  Description\n",
    "'r'  |  read only mode\n",
    "'w'  |  Write - overwrites file with same name\n",
    "'r+' |  Read and write mode\n",
    "'a'  |  Opens for appending to end of file"
   ]
  }
 ],
 "metadata": {
  "kernelspec": {
   "display_name": "Python 3",
   "language": "python",
   "name": "python3"
  },
  "language_info": {
   "codemirror_mode": {
    "name": "ipython",
    "version": 3
   },
   "file_extension": ".py",
   "mimetype": "text/x-python",
   "name": "python",
   "nbconvert_exporter": "python",
   "pygments_lexer": "ipython3",
   "version": "3.7.1"
  }
 },
 "nbformat": 4,
 "nbformat_minor": 2
}
