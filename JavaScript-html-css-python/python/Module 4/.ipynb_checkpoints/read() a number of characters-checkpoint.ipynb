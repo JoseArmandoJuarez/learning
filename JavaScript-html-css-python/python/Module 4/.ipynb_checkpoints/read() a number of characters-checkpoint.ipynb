{
 "cells": [
  {
   "cell_type": "markdown",
   "metadata": {},
   "source": [
    "reading a file with . read(n)\n",
    "\n",
    "where n = number of characters to read\n",
    "\n",
    "each time poem_file.read(10) runs, the next 10 characters are read"
   ]
  },
  {
   "cell_type": "markdown",
   "metadata": {},
   "source": [
    "# file 'Loops I repeat\\nloops\\nloops\\nloops\\nI repeat\\nuntil I\\nbreak\\n'\n",
    "\n",
    "poem_file = open('poem1.txt', 'r')\n",
    "# opens file and only reads 10 characters from the file\n",
    "poem_10char = poem_file.read(10)\n",
    "\n",
    "print(poem_10char)\n",
    "poem_10char\n",
    "\n",
    "#output\n",
    "Loops I re\n",
    "'Loops I re'\n",
    "\n",
    "# reads the next 10 characters\n",
    "poem_file.read(10)\n",
    "\n",
    "#output\n",
    "'peat\\nloops'\n",
    "\n",
    "\n",
    "# read another 10 char\n",
    "poem_parts = poem.read(10)\n",
    "print(poem_parts)\n",
    "\n",
    "#ouput\n",
    "loops\n",
    "loo\n",
    "\n",
    "# reads 5 more characters\n",
    "poem_parts += poem_file.read(5)\n",
    "print(poem_parts)\n",
    "\n",
    "#output\n",
    "loops\n",
    "loops\n",
    "l\n",
    "\n",
    "# can keep running the cells until the end of the poem"
   ]
  },
  {
   "cell_type": "code",
   "execution_count": null,
   "metadata": {},
   "outputs": [],
   "source": []
  }
 ],
 "metadata": {
  "kernelspec": {
   "display_name": "Python 3",
   "language": "python",
   "name": "python3"
  },
  "language_info": {
   "codemirror_mode": {
    "name": "ipython",
    "version": 3
   },
   "file_extension": ".py",
   "mimetype": "text/x-python",
   "name": "python",
   "nbconvert_exporter": "python",
   "pygments_lexer": "ipython3",
   "version": "3.7.1"
  }
 },
 "nbformat": 4,
 "nbformat_minor": 2
}
