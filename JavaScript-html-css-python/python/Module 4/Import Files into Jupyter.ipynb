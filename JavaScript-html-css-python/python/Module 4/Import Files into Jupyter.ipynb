{
 "cells": [
  {
   "cell_type": "raw",
   "metadata": {},
   "source": [
    "Curl imports files to jupyter session from a web address\n",
    "\n",
    "Code                                        |            Meaning\n",
    "--------------------------------------------------------------------------------------------\n",
    "!                                           |    runs the command interface supporting curl\n",
    "curl                                        |    enables curl that can download files\n",
    "!curl https://raw.githubusercontent.com/... |    is the address for data file to import\n",
    "-o                                          |    tells curl write data to a file\n",
    "poem1.txt                                   |    name curl will give the file"
   ]
  },
  {
   "cell_type": "raw",
   "metadata": {},
   "source": [
    "# below is a code using curl to import poem1.txt, the code is in a command line interface syntax\n",
    "!curl https://raw.githubusercontent.com/MicrosoftLearning/intropython/master/poem1.txt -o poem1.txt\n",
    "    \n",
    "#output\n",
    "\n",
    "%    Total   %   Received  %  Xferd  Average   Speed     Time      Time       Time     Current\n",
    "                                     Dload     Upload    Total     Spent      Left      Speed \n",
    "100   56     100    56     0    0     439     --:--:--  --:--:--  --:--:--   --:--:--    400"
   ]
  }
 ],
 "metadata": {
  "kernelspec": {
   "display_name": "Python 3",
   "language": "python",
   "name": "python3"
  },
  "language_info": {
   "codemirror_mode": {
    "name": "ipython",
    "version": 3
   },
   "file_extension": ".py",
   "mimetype": "text/x-python",
   "name": "python",
   "nbconvert_exporter": "python",
   "pygments_lexer": "ipython3",
   "version": "3.7.1"
  }
 },
 "nbformat": 4,
 "nbformat_minor": 2
}
