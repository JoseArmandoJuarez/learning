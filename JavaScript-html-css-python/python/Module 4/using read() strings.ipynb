{
 "cells": [
  {
   "cell_type": "markdown",
   "metadata": {},
   "source": [
    ".read() strings can be manipulated just like any other string\n",
    "\n",
    "# file 'Loops I repeat\\nloops\\nloops\\nloops\\nI repeat\\nuntil I\\nbreak\\n'\n",
    "\n",
    "\n",
    "# using uppercase\n",
    "poem_file = poem('poem1.txt', 'r')\n",
    "\n",
    "#the 15 characters will become uppercase\n",
    "poem_part = poem_file.read(15).upper()\n",
    "print(poem_part)\n",
    "\n",
    "#output\n",
    "LOOPS I REPEAT\n"
   ]
  },
  {
   "cell_type": "markdown",
   "metadata": {},
   "source": [
    "# using title() turns first letter upper case\n",
    "\n",
    "poem_part = poem_file.read(6).title()\n",
    "\n",
    "print(poem_part)\n",
    "\n",
    "#ouput\n",
    "Loops"
   ]
  },
  {
   "cell_type": "markdown",
   "metadata": {},
   "source": [
    "# checking if the word is an alphabetical character\n",
    "\n",
    "poem_part = poem_file.read(4)\n",
    "print(poem_part)\n",
    "\n",
    "print(poem_part.isalpha())\n",
    "poem_part\n",
    "\n",
    "#output\n",
    "loop\n",
    "True\n",
    "\n",
    "'loop'"
   ]
  },
  {
   "cell_type": "markdown",
   "metadata": {},
   "source": [
    "# slicing specific characters\n",
    "\n",
    "poem_file = open('poem1.txt', 'r')\n",
    "poem_text = poem_file.read()\n",
    "#starting at index 8 ending at index 26\n",
    "print(poem_text[8:26])\n",
    "\n",
    "#output\n",
    "repeat\n",
    "loops\n",
    "loops"
   ]
  },
  {
   "cell_type": "markdown",
   "metadata": {},
   "source": [
    "# Boolena tests such as:\n",
    ".upper()\n",
    ".title()\n",
    "string slices, eg. cities[3:9]\n",
    "\n",
    "# String methods can be performed such as:\n",
    ".isdigit()\n",
    ".isalpha()\n"
   ]
  },
  {
   "cell_type": "code",
   "execution_count": null,
   "metadata": {},
   "outputs": [],
   "source": []
  }
 ],
 "metadata": {
  "kernelspec": {
   "display_name": "Python 3",
   "language": "python",
   "name": "python3"
  },
  "language_info": {
   "codemirror_mode": {
    "name": "ipython",
    "version": 3
   },
   "file_extension": ".py",
   "mimetype": "text/x-python",
   "name": "python",
   "nbconvert_exporter": "python",
   "pygments_lexer": "ipython3",
   "version": "3.7.1"
  }
 },
 "nbformat": 4,
 "nbformat_minor": 2
}
