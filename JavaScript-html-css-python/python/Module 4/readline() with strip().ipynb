{
 "cells": [
  {
   "cell_type": "markdown",
   "metadata": {},
   "source": [
    "# .readline() with .strip()\n",
    ".strip() removes leading and training whitespaces, including '\\n' formatting character"
   ]
  },
  {
   "cell_type": "markdown",
   "metadata": {},
   "source": [
    "poem1 = open('poem1.txt', 'r')\n",
    "\n",
    "\n",
    "poem_line = poem1.readline()\n",
    "\n",
    "#loops until the end\n",
    "while poem_line:\n",
    "    print(poem_line)\n",
    "    poem_line = poem1.readline()\n",
    "    \n",
    "poem1.close()\n",
    "\n",
    "#output\n",
    "Loops I repeat\n",
    "\n",
    "loops\n",
    "\n",
    "loops\n",
    "\n",
    "loops\n",
    "\n",
    "I repeat\n",
    "\n",
    "unitl I\n",
    "\n",
    "break"
   ]
  },
  {
   "cell_type": "markdown",
   "metadata": {},
   "source": [
    "#.strip() method removes any white space both beginning and end\n",
    "\n",
    "poem_line = poem1.readline().strip()\n",
    "\n",
    "while poem_line:                 \n",
    "    print(poem_line)           \n",
    "    poem_line = poem1.readline().strip()                 \n",
    "\n",
    "poem1.close()            \n",
    "\n",
    "#output       \n",
    "Loops I repeat       \n",
    "loops     \n",
    "loops      \n",
    "loops       \n",
    "I repeat      \n",
    "until I       \n",
    "break"
   ]
  }
 ],
 "metadata": {
  "kernelspec": {
   "display_name": "Python 3",
   "language": "python",
   "name": "python3"
  },
  "language_info": {
   "codemirror_mode": {
    "name": "ipython",
    "version": 3
   },
   "file_extension": ".py",
   "mimetype": "text/x-python",
   "name": "python",
   "nbconvert_exporter": "python",
   "pygments_lexer": "ipython3",
   "version": "3.7.1"
  }
 },
 "nbformat": 4,
 "nbformat_minor": 2
}
